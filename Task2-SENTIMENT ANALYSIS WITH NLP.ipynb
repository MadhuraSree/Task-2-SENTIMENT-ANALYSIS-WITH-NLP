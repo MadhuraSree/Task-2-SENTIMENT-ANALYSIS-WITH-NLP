{
 "cells": [
  {
   "cell_type": "code",
   "execution_count": 4,
   "id": "26be08ce-5139-416f-aa11-6b3e1a33dccc",
   "metadata": {},
   "outputs": [
    {
     "name": "stdout",
     "output_type": "stream",
     "text": [
      "\n",
      "🎯 Accuracy: 85.92%\n",
      "\n",
      "📊 Classification Report:\n",
      "              precision    recall  f1-score   support\n",
      "\n",
      "    Negative       0.84      0.87      0.85      1556\n",
      "    Positive       0.88      0.85      0.86      1717\n",
      "\n",
      "    accuracy                           0.86      3273\n",
      "   macro avg       0.86      0.86      0.86      3273\n",
      "weighted avg       0.86      0.86      0.86      3273\n",
      "\n"
     ]
    },
    {
     "data": {
      "image/png": "[encoded data removed]",
      "text/plain": [
       "<Figure size 600x400 with 2 Axes>"
      ]
     },
     "metadata": {},
     "output_type": "display_data"
    },
    {
     "name": "stdout",
     "output_type": "stream",
     "text": [
      "💬 \"This product is amazing! Totally recommend.\" → Positive\n",
      "💬 \"Worst service I've ever received.\" → Negative\n",
      "💬 \"Nothing special, just okay.\" → Positive\n"
     ]
    }
   ],
   "source": [
    "# ✅ Import Libraries\n",
    "import pandas as pd\n",
    "import re\n",
    "from sklearn.model_selection import train_test_split\n",
    "from sklearn.feature_extraction.text import TfidfVectorizer\n",
    "from sklearn.svm import LinearSVC\n",
    "from sklearn.metrics import accuracy_score, classification_report, confusion_matrix\n",
    "import matplotlib.pyplot as plt\n",
    "import seaborn as sns\n",
    "\n",
    "# ✅ Load and Clean Dataset\n",
    "df = pd.read_csv(\"train.csv\", encoding='ISO-8859-1')\n",
    "df = df[['text', 'sentiment']]\n",
    "df = df[df['sentiment'].isin(['positive', 'negative'])]  \n",
    "df.dropna(inplace=True)\n",
    "\n",
    "# ✅ Text Cleaning Function\n",
    "def clean_text(text):\n",
    "    text = str(text).lower()\n",
    "    text = re.sub(r\"http\\S+\", \"\", text)        \n",
    "    text = re.sub(r\"@\\w+|#\\w+\", \"\", text)       \n",
    "    text = re.sub(r\"[^a-z\\s]\", \"\", text)        \n",
    "    text = re.sub(r\"\\s+\", \" \", text).strip()    \n",
    "    return text\n",
    "\n",
    "df['text'] = df['text'].apply(clean_text)\n",
    "df['sentiment'] = df['sentiment'].map({'positive': 1, 'negative': 0})  \n",
    "\n",
    "# ✅ Split Data\n",
    "X = df['text']\n",
    "y = df['sentiment']\n",
    "X_train, X_test, y_train, y_test = train_test_split(X, y, test_size=0.2, stratify=y, random_state=42)\n",
    "\n",
    "# ✅ TF-IDF Vectorizer (Improved)\n",
    "vectorizer = TfidfVectorizer(\n",
    "    stop_words='english',\n",
    "    ngram_range=(1, 3),      \n",
    "    max_features=8000,\n",
    "    min_df=3,\n",
    "    max_df=0.8\n",
    ")\n",
    "\n",
    "X_train_vec = vectorizer.fit_transform(X_train)\n",
    "X_test_vec = vectorizer.transform(X_test)\n",
    "\n",
    "# ✅Train SVM Classifier\n",
    "model = LinearSVC(class_weight='balanced')  \n",
    "model.fit(X_train_vec, y_train)\n",
    "\n",
    "# ✅ Evaluate\n",
    "y_pred = model.predict(X_test_vec)\n",
    "accuracy = accuracy_score(y_test, y_pred)\n",
    "\n",
    "print(f\"\\n🎯 Accuracy: {accuracy * 100:.2f}%\")\n",
    "print(\"\\n📊 Classification Report:\")\n",
    "print(classification_report(y_test, y_pred, target_names=[\"Negative\", \"Positive\"]))\n",
    "\n",
    "# ✅ Confusion Matrix\n",
    "cm = confusion_matrix(y_test, y_pred)\n",
    "plt.figure(figsize=(6, 4))\n",
    "sns.heatmap(cm, annot=True, fmt=\"d\", cmap=\"Blues\", xticklabels=[\"Negative\", \"Positive\"], yticklabels=[\"Negative\", \"Positive\"])\n",
    "plt.title(\"Confusion Matrix\")\n",
    "plt.xlabel(\"Predicted\")\n",
    "plt.ylabel(\"Actual\")\n",
    "plt.tight_layout()\n",
    "plt.show()\n",
    "\n",
    "# ✅ Custom Predictions\n",
    "samples = [\n",
    "    \"This product is amazing! Totally recommend.\",\n",
    "    \"Worst service I've ever received.\",\n",
    "    \"Nothing special, just okay.\"\n",
    "]\n",
    "sample_vec = vectorizer.transform(samples)\n",
    "sample_preds = model.predict(sample_vec)\n",
    "\n",
    "for text, pred in zip(samples, sample_preds):\n",
    "    print(f\"💬 \\\"{text}\\\" → {'Positive' if pred == 1 else 'Negative'}\")\n"
   ]
  },
  {
   "cell_type": "code",
   "execution_count": null,
   "id": "d9c7a3e8-e3fa-4917-9bec-63352e150f9e",
   "metadata": {},
   "outputs": [],
   "source": []
  }
 ],
 "metadata": {
  "kernelspec": {
   "display_name": "Python 3 (ipykernel)",
   "language": "python",
   "name": "python3"
  },
  "language_info": {
   "codemirror_mode": {
    "name": "ipython",
    "version": 3
   },
   "file_extension": ".py",
   "mimetype": "text/x-python",
   "name": "python",
   "nbconvert_exporter": "python",
   "pygments_lexer": "ipython3",
   "version": "3.13.2"
  }
 },
 "nbformat": 4,
 "nbformat_minor": 5
}
